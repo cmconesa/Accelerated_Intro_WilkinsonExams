{
 "cells": [
  {
   "cell_type": "markdown",
   "metadata": {},
   "source": [
    "# INSTRUCTIONS\n",
    "1. Fork this repository into your GitHub folder\n",
    "2. Clone YOUR COPY into your laptop\n",
    "3. cd into the cloned folder\n",
    "4. start jupyter notebook\n",
    "5. Open the appropriate exam (Exam Week 1, or Exam Week 2)\n",
    "6. Create a new Jupyter Notebook using the Bash kernel (for week 1 exam) or python kernel (week 2 exam)\n",
    "7. In this new notebook, create a documentation (\"Markup\") box, and a code box, for each question\n",
    "    *use the documentation box to explain the logic of your answer\n",
    "    *the code box to show the code of your answer\n",
    "8. when you have finished answering all problems, save the notebook\n",
    "9. push the notebook to GitHub\n",
    "10. email me your GitHub username so that I can retrieve your answers and grade them.\n",
    "11. go for a beer!"
   ]
  },
  {
   "cell_type": "markdown",
   "metadata": {},
   "source": [
    "# BACKGROUND INFORMATION\n",
    "\n",
    "I have retrieved the Locus Germplasm Phenotype file from The Arabidiosis Information Resource (TAIR - one of the primary _Arabidopsis_ databases globally) (https://www.arabidopsis.org/download/index-auto.jsp?dir=/download_files/Polymorphisms_and_Phenotypes ).  The file contains information about the phenotypes associated with certain _Arabodopsis_ mutations.\n",
    "\n",
    "The file is in the current folder - called [Locus_Germplasm_Phenotype_20130122.txt](./Locus_Germplasm_Phenotype_20130122.txt)\n",
    "\n",
    "The file format is \"tab-separated values\".  This means that each data field is separated by a \"tab\" character.  **There is one line at the beginning of the file -the \"header\" - that describes the type of data in each column.**  \n",
    "\n",
    "The first column is the \"Arabiodopsis Genome Initiative\" (AGI) Locus Code.  Locus Codes have a predictable structure\n",
    "\n",
    "* The first character is \"A\" or \"a\"\n",
    "* The second character is \"T\" or \"t\"\n",
    "* The third character is the chromosome number (between 1 and 5)\n",
    "* The fourth character is \"G\" or \"g\"\n",
    "* The remaining characters are a set of 5 digits (between 0 and 9)\n",
    "\n",
    "**For Example:  At1G22934**\n",
    "\n",
    "The final column in the dataset is the PubMed ID for the published paper describing this phenotype.  PubMed IDs are all digits (0-9) but the length of the ID is unpredictable."
   ]
  },
  {
   "cell_type": "markdown",
   "metadata": {},
   "source": [
    "# Exam Problems - TIME 2 hours\n",
    "**You may use ANY RESOURCE YOU WANT - including Google, or the course notes.  **\n",
    "**Please DO NOT discuss your answers with each other until after the exam is complete.**\n",
    "\n",
    "please create a Notebook \"Text box\" describing your answer, and a \"code box\" containing the command, for problems #2 to #10, below (not #1 or #11)\n",
    "\n",
    "\n",
    "## Problem 1\n",
    "\n",
    "* Copy this data file to your copy of the Exams Git ( https://github.com/YourUsername/WilkinsonExams )\n",
    "* Create a new Jupyter Notebook in that folder called \"Exam_1_Answers\" using the 'bash' kernel \n",
    "* Do the rest of this exam inside of that the \"Exam_1_Answers\" notebook"
   ]
  },
  {
   "cell_type": "markdown",
   "metadata": {},
   "source": [
    "## Problem 2\n",
    "\n",
    "Create a directory listing command that shows:\n",
    "* the ownership of the file\n",
    "* it's file-size, in Megabytes (i.e. human readable)\n",
    "* in words (in the text box), describe the _permissions_ on that file (read/write/execute) for users, groups, and \"anyone\""
   ]
  },
  {
   "cell_type": "code",
   "execution_count": 1,
   "metadata": {},
   "outputs": [
    {
     "name": "stdout",
     "output_type": "stream",
     "text": [
      "-rw-rw-r-- 1 osboxes osboxes 1.2M Sep  5 11:31 Locus_Germplasm_Phenotype_20130122.txt\n"
     ]
    }
   ],
   "source": [
    "ls -lh Locus_Germplasm_Phenotype_20130122.txt"
   ]
  },
  {
   "cell_type": "markdown",
   "metadata": {},
   "source": [
    "**Answer: The file Exam_1_Answers.ipynb has the following _permissions_:**\n",
    "* For users: read and write.\n",
    "* For groups: read and write.\n",
    "* For anyone: read.\n",
    "\n",
    "I used -lh because -l already list all the parameters needed for the answer (ownership and file-size) and I have just added the argument -h to show it in Megabytes (makig it human readable)."
   ]
  },
  {
   "cell_type": "markdown",
   "metadata": {},
   "source": [
    "## Problem 3\n",
    "\n",
    "Create a command that outputs only the \"header\" line"
   ]
  },
  {
   "cell_type": "code",
   "execution_count": 2,
   "metadata": {},
   "outputs": [
    {
     "name": "stdout",
     "output_type": "stream",
     "text": [
      "Locus_name)\tGermplasm_name\tphenotype\tpubmed_id\n"
     ]
    }
   ],
   "source": [
    "head -1 Locus_Germplasm_Phenotype_20130122.txt"
   ]
  },
  {
   "cell_type": "markdown",
   "metadata": {},
   "source": [
    "The header, which describes the type of data of each column, is in the first line of the file in this file. For that reason,  I used the command head and specify -1, which implies that only the first line of the archieve is shown."
   ]
  },
  {
   "cell_type": "markdown",
   "metadata": {},
   "source": [
    "## Problem 4\n",
    "\n",
    "Create a command that outputs the total number of lines in the file"
   ]
  },
  {
   "cell_type": "code",
   "execution_count": 3,
   "metadata": {},
   "outputs": [
    {
     "name": "stdout",
     "output_type": "stream",
     "text": [
      "7216\n"
     ]
    }
   ],
   "source": [
    "cat Locus_Germplasm_Phenotype_20130122.txt | wc -l"
   ]
  },
  {
   "cell_type": "markdown",
   "metadata": {},
   "source": [
    "As It is specify that the command outputs only the total number of lines in the file, I used pipes to display just the number.\n",
    "\n",
    "I used \"cat Locus_Germplasm_Phenotype_20130122.txt\" to display the entire document and then \"wc -l\" to count all the lines of the document. \n",
    "\n",
    "It is also possible to use \"wc -l Locus_Germplasm_Phenotype_20130122.txt\" but it gives you the number of lines and the name of the file."
   ]
  },
  {
   "cell_type": "markdown",
   "metadata": {},
   "source": [
    "## Problem 5\n",
    "\n",
    "* Create a command that writes ONLY the data lines (i.e. excludes the header!) to a new file called \"Data_Only.csv\"\n",
    "* prove that your output file has the expected number of lines"
   ]
  },
  {
   "cell_type": "code",
   "execution_count": 4,
   "metadata": {},
   "outputs": [
    {
     "name": "stdout",
     "output_type": "stream",
     "text": [
      "7215 Data_Only.csv\n"
     ]
    }
   ],
   "source": [
    "cat Locus_Germplasm_Phenotype_20130122.txt | tail -7215 > Data_Only.csv\n",
    "wc -l Data_Only.csv\n",
    "#head -1 Data_Only.csv\n",
    "#tail -1 Data_Only.csv\n",
    "#head -2 Locus_Germplasm_Phenotype_20130122.txt\n",
    "#tail -1 Locus_Germplasm_Phenotype_20130122.txt"
   ]
  },
  {
   "cell_type": "markdown",
   "metadata": {},
   "source": [
    "To create the \"Data_Only.csv\" I used the following pipe: \"cat Locus_Germplasm_Phenotype_20130122.txt | tail -7215 > Data_Only.csv\" wich:\n",
    "        1. prints the whole document of Locus_Germoplasm_(...).txt then pipe to \n",
    "        2. wich selects starting from the last line the lines that you specified in -number. As I know the document have 7216 lines from the last problem, selecting all minus one will give me all the data except the header and then pipe it into...\n",
    "        3. the output file Data_only.csv with > and the name of the file.\n",
    "        \n",
    "Then, I output the number of lines of the Data_Only.csv with \"wc -l Data_Only.csv\" which tell you the lines of the document as said before. \n",
    "\n",
    "Finally, I checked that everything is correct and working properly with head and tail of the Data_Only.csv and Locus_Germplasm_Phenotype_20130122.txt. If both entries are the same, it means it worked correctly. I commented this final lines as they are not relevant to the problem it-self."
   ]
  },
  {
   "cell_type": "markdown",
   "metadata": {},
   "source": [
    "## Problem 6\n",
    "\n",
    "* Create a command that shows all of the lines that have a phenotype including the word \"root\""
   ]
  },
  {
   "cell_type": "code",
   "execution_count": 5,
   "metadata": {
    "scrolled": true
   },
   "outputs": [
    {
     "name": "stdout",
     "output_type": "stream",
     "text": [
      "\u001b[32m\u001b[K23\u001b[m\u001b[K\u001b[36m\u001b[K:\u001b[m\u001b[KAT1G01550\tbps1-2\tGrowth of bps1-2 mutants on CPTA-supplemented medium resulted in partial rescue of both leaf and \u001b[01;31m\u001b[Kroot\u001b[m\u001b[K defects. bps1-2 mutants grown on control growth medium have small radialized leaves with very little vascular tissue, and very short misshapen knotted-looking \u001b[01;31m\u001b[Kroot\u001b[m\u001b[Ks. By contrast, bps1-2 mutants grown on CPTA-supplemented medium produced larger flattened leaves that contained primary and secondary veins, and smooth elongated \u001b[01;31m\u001b[Kroot\u001b[m\u001b[Ks.\t17217459\n",
      "\u001b[32m\u001b[K24\u001b[m\u001b[K\u001b[36m\u001b[K:\u001b[m\u001b[KAT1G01550\tbps1-2\tMutant \u001b[01;31m\u001b[Kroot\u001b[m\u001b[Ks were abnormal; primary and lateral \u001b[01;31m\u001b[Kroot\u001b[m\u001b[Ks were short, \u001b[01;31m\u001b[Kroot\u001b[m\u001b[K hairs formed close to the \u001b[01;31m\u001b[Kroot\u001b[m\u001b[K apex, and \u001b[01;31m\u001b[Kroot\u001b[m\u001b[K defects were most severe when plants were grown at low temperature.\t15458645\n",
      "\u001b[32m\u001b[K26\u001b[m\u001b[K\u001b[36m\u001b[K:\u001b[m\u001b[KAT1G01550\tbps1-2\tUnder high light conditions (approximately 200 &mu;E.m-2.sec-1), CPTA-treated seedlings were completely photobleached and mutants showed rescue of both leaf and \u001b[01;31m\u001b[Kroot\u001b[m\u001b[K development. Under moderate (approximately 100 &mu;E.m-2.sec-1) and low (30 &mu;E.m-2.sec-1) light intensities, seedlings are incompletely photobleached, but leaf and \u001b[01;31m\u001b[Kroot\u001b[m\u001b[K development continue to show partial rescue.\t17217459\n",
      "\u001b[32m\u001b[K90\u001b[m\u001b[K\u001b[36m\u001b[K:\u001b[m\u001b[KAT1G02970\twee1-1\tsignificant decreased \u001b[01;31m\u001b[Kroot\u001b[m\u001b[K elongation rates, densely clustered hairs at the \u001b[01;31m\u001b[Kroot\u001b[m\u001b[K tip and outgrowth of lateral \u001b[01;31m\u001b[Kroot\u001b[m\u001b[Ks\t17209125\n",
      "\u001b[32m\u001b[K91\u001b[m\u001b[K\u001b[36m\u001b[K:\u001b[m\u001b[KAT1G03000\tpex6\tResistant to \u001b[01;31m\u001b[Kroot\u001b[m\u001b[K elongation inhibition by IBA but responds normally to IAA.  Fails to respond to the stimulatory effects of IBA on lateral \u001b[01;31m\u001b[Kroot\u001b[m\u001b[K initiation but makes lateral \u001b[01;31m\u001b[Kroot\u001b[m\u001b[Ks in response to IAA.  Specifically defective in IBA responses.  Has several peroxisome-defective phenotypes:  does not develop normally without exogenous sucrose, dramatic defects in hypocotyl and \u001b[01;31m\u001b[Kroot\u001b[m\u001b[K elongation in the absence of sucrose. Shorter \u001b[01;31m\u001b[Kroot\u001b[m\u001b[K and hypocotyl than WT.  Plants grown in soil have smaller rosettes, fewer rosette leaves, and shorter primary inflorescence stems than WT.  Also has shorter siliques containing fewer seeds than WT.  Pale green in color.\t14745029\n",
      "\u001b[32m\u001b[K92\u001b[m\u001b[K\u001b[36m\u001b[K:\u001b[m\u001b[KAT1G03060\tspi-11\tTrichome cells have shorter branches, reduced stalk length and width.  Epidermal pavement cells are less complex, with less lobing.  \u001b[01;31m\u001b[KRoot\u001b[m\u001b[K hairs are shorter and \u001b[01;31m\u001b[Kroot\u001b[m\u001b[K hair vacuoles are fragmented.\t19392685\n",
      "\u001b[32m\u001b[K93\u001b[m\u001b[K\u001b[36m\u001b[K:\u001b[m\u001b[KAT1G03060\tspi-12\tTrichome cells have shorter branches, reduced stalk length and width.  Epidermal pavement cells are less complex, with less lobing.  \u001b[01;31m\u001b[KRoot\u001b[m\u001b[K hairs are shorter and \u001b[01;31m\u001b[Kroot\u001b[m\u001b[K hair vacuoles are fragmented.\t19392685\n",
      "\u001b[32m\u001b[K94\u001b[m\u001b[K\u001b[36m\u001b[K:\u001b[m\u001b[KAT1G03060\tspi-139\tTrichome cells have shorter branches, reduced stalk length and width.  Epidermal pavement cells are less complex, with less lobing.  \u001b[01;31m\u001b[KRoot\u001b[m\u001b[K hairs are shorter and \u001b[01;31m\u001b[Kroot\u001b[m\u001b[K hair vacuoles are fragmented.\t19392685\n",
      "\u001b[32m\u001b[K95\u001b[m\u001b[K\u001b[36m\u001b[K:\u001b[m\u001b[KAT1G03060\tspi-4.2\tTrichome cells have shorter branches, reduced stalk length and width.  Epidermal pavement cells are less complex, with less lobing.  \u001b[01;31m\u001b[KRoot\u001b[m\u001b[K hairs are shorter and \u001b[01;31m\u001b[Kroot\u001b[m\u001b[K hair vacuoles are fragmented.\t19392685\n",
      "\u001b[32m\u001b[K144\u001b[m\u001b[K\u001b[36m\u001b[K:\u001b[m\u001b[KAT1G04020\tbard1-3\tMutant meristems develop abnormally.The meristem is enlarged shortly after germination and appears disorganized. Primordia are irregular and lateral organs produced include tubular and finger-like structures. Also affects the development of \u001b[01;31m\u001b[Kroot\u001b[m\u001b[Ks. Primary \u001b[01;31m\u001b[Kroot\u001b[m\u001b[K growth is inhibited. The \u001b[01;31m\u001b[Kroot\u001b[m\u001b[K apical meristems are enlarged and lack distinct columella cells or starch granules.\t18591352\n",
      "\u001b[32m\u001b[K145\u001b[m\u001b[K\u001b[36m\u001b[K:\u001b[m\u001b[KAT1G04030\tbard1-3\tMutant meristems develop abnormally.The meristem is enlarged shortly after germination and appears disorganized. Primordia are irregular and lateral organs produced include tubular and finger-like structures. Also affects the development of \u001b[01;31m\u001b[Kroot\u001b[m\u001b[Ks. Primary \u001b[01;31m\u001b[Kroot\u001b[m\u001b[K growth is inhibited. The \u001b[01;31m\u001b[Kroot\u001b[m\u001b[K apical meristems are enlarged and lack distinct columella cells or starch granules.\t18591352\n",
      "\u001b[32m\u001b[K150\u001b[m\u001b[K\u001b[36m\u001b[K:\u001b[m\u001b[KAT1G04160\tCS859930\tThere are no obvious defects in the aerial tissues, \u001b[01;31m\u001b[Kroot\u001b[m\u001b[Ks, or \u001b[01;31m\u001b[Kroot\u001b[m\u001b[K hairs of xi-b mutant plants grown under normal conditions. There are also no obvious defects in organelle trafficking. Double mutant analysis reveals a role for xi-b in \u001b[01;31m\u001b[Kroot\u001b[m\u001b[K hair elongation (see xi-2/xi-b).\t18178669\n",
      "\u001b[32m\u001b[K151\u001b[m\u001b[K\u001b[36m\u001b[K:\u001b[m\u001b[KAT1G04160\tSALK_113062C\tThere are no obvious defects in the aerial tissues, \u001b[01;31m\u001b[Kroot\u001b[m\u001b[Ks, or \u001b[01;31m\u001b[Kroot\u001b[m\u001b[K hairs of xi-b mutant plants grown under normal conditions. There are also no obvious defects in organelle trafficking. Double mutant analysis reveals a role for xi-b in \u001b[01;31m\u001b[Kroot\u001b[m\u001b[K hair elongation (see xi-2/xi-b)\t18178669\n",
      "\u001b[32m\u001b[K152\u001b[m\u001b[K\u001b[36m\u001b[K:\u001b[m\u001b[KAT1G04160\txi-2 / xi-b\tThe overall growth of the xi-2 / xi-b double mutant is normal. In the leaf epidermis, Golgi stacks and peroxisomes move more slowly in these mutant cells than in wild-type cells. The rate of mitochondrial movement is also slightly reduced. \u001b[01;31m\u001b[KRoot\u001b[m\u001b[K hair length is reduced to ~15% of the wild type \u001b[01;31m\u001b[Kroot\u001b[m\u001b[K hair length in these double mutants, but their \u001b[01;31m\u001b[Kroot\u001b[m\u001b[K hair density is very similar to the wild type density.\t19060218\n",
      "\u001b[32m\u001b[K154\u001b[m\u001b[K\u001b[36m\u001b[K:\u001b[m\u001b[KAT1G04220\tdaisy-2\tsignificantly reduced \u001b[01;31m\u001b[Kroot\u001b[m\u001b[K growth\t18786002\n",
      "\u001b[32m\u001b[K156\u001b[m\u001b[K\u001b[36m\u001b[K:\u001b[m\u001b[KAT1G04250\tCS57505\tThe mutant is less affected by brassinolide than wildtype with regard to inhibition of \u001b[01;31m\u001b[Kroot\u001b[m\u001b[K elongation.\t16367964\n",
      "\u001b[32m\u001b[K180\u001b[m\u001b[K\u001b[36m\u001b[K:\u001b[m\u001b[KAT1G05180\tAXL/axl-1 axr1-12\tHomozygous axr1-12 plants that are heterozygous for axl-1 display severe growth defects. These seedlings developed short, slow growing \u001b[01;31m\u001b[Kroot\u001b[m\u001b[Ks compared with wild-type \u001b[01;31m\u001b[Kroot\u001b[m\u001b[Ks, and were arrested at the late seedling stage.\t17655650\n",
      "\u001b[32m\u001b[K185\u001b[m\u001b[K\u001b[36m\u001b[K:\u001b[m\u001b[KAT1G05180\tAXL/axl-1 axr1-12\tThe columella of AXL/axl-1 axr1-12/axr1-12 \u001b[01;31m\u001b[Kroot\u001b[m\u001b[K tips is highly disorganized during early seedling \u001b[01;31m\u001b[Kroot\u001b[m\u001b[K growth, and is completely disrupted at the time when \u001b[01;31m\u001b[Kroot\u001b[m\u001b[K growth ceases.\t17655650\n",
      "\u001b[32m\u001b[K190\u001b[m\u001b[K\u001b[36m\u001b[K:\u001b[m\u001b[KAT1G05180\tCS8038\tauxin resistant; irregular rosette leaves, slightly curled around leaf axis; \u001b[01;31m\u001b[Kroot\u001b[m\u001b[Ks very auxin resistant; defective \u001b[01;31m\u001b[Kroot\u001b[m\u001b[K gravitropism; reduced number of lateral \u001b[01;31m\u001b[Kroot\u001b[m\u001b[Ks; plant appearance similar to axr1-12, but more pronounced; dwarf, bushy plants; reduced plant height; reduced fertility.\t7704045\n",
      "\u001b[32m\u001b[K211\u001b[m\u001b[K\u001b[36m\u001b[K:\u001b[m\u001b[KAT1G05850\tpom1-1\tCallus-induced \u001b[01;31m\u001b[Kroot\u001b[m\u001b[Ks from the mutant displayed the mutant phenotype when they grew under restrictive conditions. All the mutants responded to a gravitropic stimulus in a manner similar to wild type although the change of the direction of growth was slower than wild type.\t7743935\n",
      "\u001b[32m\u001b[K224\u001b[m\u001b[K\u001b[36m\u001b[K:\u001b[m\u001b[KAT1G05850\tpom1-7\tWhen grown on media containing 0.5% sucrose, the mutant had reduced \u001b[01;31m\u001b[Kroot\u001b[m\u001b[K length but no apparent radial cell expansion.\t7743935\n",
      "\u001b[32m\u001b[K226\u001b[m\u001b[K\u001b[36m\u001b[K:\u001b[m\u001b[KAT1G05850\tpom1-8\tWhen grown on media containing 0.5% sucrose, the mutant had reduced \u001b[01;31m\u001b[Kroot\u001b[m\u001b[K length but no apparent radial cell expansion.\t7743935\n",
      "\u001b[32m\u001b[K234\u001b[m\u001b[K\u001b[36m\u001b[K:\u001b[m\u001b[KAT1G06290\tacx3-2\tPlants display decreased sensitivity to the inhibitory effect of indole-3-butyric acid (IBA) on \u001b[01;31m\u001b[Kroot\u001b[m\u001b[K elongation, while remaining sensitive to inhibitory concentrations of indole-3-acetic acid.  They maintain their ability to initiate lateral \u001b[01;31m\u001b[Kroot\u001b[m\u001b[Ks in response to IBA.\t15743450\n",
      "\u001b[32m\u001b[K235\u001b[m\u001b[K\u001b[36m\u001b[K:\u001b[m\u001b[KAT1G06290\tacx3-4\tPlants display decreased sensitivity to the inhibitory effect of indole-3-butyric acid (IBA) on \u001b[01;31m\u001b[Kroot\u001b[m\u001b[K elongation, while remaining sensitive to inhibitory concentrations of indole-3-acetic acid.  They maintain their ability to initiate lateral \u001b[01;31m\u001b[Kroot\u001b[m\u001b[Ks in response to IBA.\t15743450\n"
     ]
    },
    {
     "name": "stdout",
     "output_type": "stream",
     "text": [
      "\u001b[32m\u001b[K251\u001b[m\u001b[K\u001b[36m\u001b[K:\u001b[m\u001b[KAT1G08030\tSALK_009847\tSeedlings of tpst-1 had stunted \u001b[01;31m\u001b[Kroot\u001b[m\u001b[Ks and smaller cotyledons compared with the WT.  tpst-1 has an abnormally shaped \u001b[01;31m\u001b[Kroot\u001b[m\u001b[K apical meristem due to disorganized cell division and expansion. At 15 days after germination, the leaves of the tpst-1 plants are small and pale green, the number of higher order veins is reduced, and the secondary veins often do not close.  At the flowering stage, tpst-1 has smaller rosettes, tiny leaves showing early senescence, shorter inflorescence, and a reduced number of flowers and siliques. The fertility and seed set of tpst-1 are normal.\t19666544\n",
      "\u001b[32m\u001b[K253\u001b[m\u001b[K\u001b[36m\u001b[K:\u001b[m\u001b[KAT1G08260\ttilted1-4\tTwenty-five percent of embryos show abnormal cell divisions during embryogenesis-large cells- decreased rate of cell division. Division of the hypohyseal cell abnormal leading to abnormal placement of the \u001b[01;31m\u001b[Kroot\u001b[m\u001b[K pole. Homozygotes show delayed flowering, abnormal floraly phyllotaxy and abnormal ovules.\t16278345\n",
      "\u001b[32m\u001b[K255\u001b[m\u001b[K\u001b[36m\u001b[K:\u001b[m\u001b[KAT1G08370\tdcp1-2\tThe homozygous progeny is seedling lethal, showed arrested postembryonic development including cotyledon expansion, development of vascular networks, \u001b[01;31m\u001b[Kroot\u001b[m\u001b[K elongation, and shoot development.\t17485080\n",
      "\u001b[32m\u001b[K256\u001b[m\u001b[K\u001b[36m\u001b[K:\u001b[m\u001b[KAT1G08430\tAtalm1-KO\tOn Al3+ medium, the mutant has significantly shorter \u001b[01;31m\u001b[Kroot\u001b[m\u001b[Ks than the Col wild type. In the absence of aluminum stress, the \u001b[01;31m\u001b[Kroot\u001b[m\u001b[Ks of mutant and wild type grew similarly.\t16740662\n",
      "\u001b[32m\u001b[K257\u001b[m\u001b[K\u001b[36m\u001b[K:\u001b[m\u001b[KAT1G08430\tAtalm1-KO\tThe mutant exhibits very low levels of \u001b[01;31m\u001b[Kroot\u001b[m\u001b[K  growth and malate release in the presence of  Al (0.2 nmol plant-1 24 h-1).\n",
      "\u001b[32m\u001b[K289\u001b[m\u001b[K\u001b[36m\u001b[K:\u001b[m\u001b[KAT1G09100\trpt5b\tInsensitive to high-glucose repression of cotyledon expansion, chlorophyll accumulation, true-leaf development and \u001b[01;31m\u001b[Kroot\u001b[m\u001b[K elongation. The response is specific to glucose but not to osmotic changes.\t17081979\n",
      "\u001b[32m\u001b[K294\u001b[m\u001b[K\u001b[36m\u001b[K:\u001b[m\u001b[KAT1G09110\trpt5b\tInsensitive to high-glucose repression of cotyledon expansion, chlorophyll accumulation, true-leaf development and \u001b[01;31m\u001b[Kroot\u001b[m\u001b[K elongation. The response is specific to glucose but not to osmotic changes.\t17081979\n",
      "\u001b[32m\u001b[K336\u001b[m\u001b[K\u001b[36m\u001b[K:\u001b[m\u001b[KAT1G09940\tathema2\tno visible phenotype. decreased heme contents in \u001b[01;31m\u001b[Kroot\u001b[m\u001b[Ks.\n",
      "\u001b[32m\u001b[K340\u001b[m\u001b[K\u001b[36m\u001b[K:\u001b[m\u001b[KAT1G10130\teca3-1\tShoot and \u001b[01;31m\u001b[Kroot\u001b[m\u001b[K growth is strongly retarded when plants are grown in the absence of Mn.  Also shows delayed growth when grown in the absence of Ca.\t18024560\n",
      "\u001b[32m\u001b[K358\u001b[m\u001b[K\u001b[36m\u001b[K:\u001b[m\u001b[KAT1G10570\tots1-1 ots2-1\tThe ots1-1 ots2-1 double mutant plants flower earlier than wild type plants under long days and short days. They do not differ notably from wild type plants with respect to their overall growth rate, inflorescence structure, or seedling primary \u001b[01;31m\u001b[Kroot\u001b[m\u001b[K elongation rate. But, they are hypersensitive to salt based on \u001b[01;31m\u001b[Kroot\u001b[m\u001b[K elongation assays. They also have a higher level of SUMOylated proteins than wild type seedlings exposed to salt stress.\t18849491\n",
      "\u001b[32m\u001b[K383\u001b[m\u001b[K\u001b[36m\u001b[K:\u001b[m\u001b[KAT1G11130\tscm-1\tPosition of \u001b[01;31m\u001b[Kroot\u001b[m\u001b[K-hair cells is scrambled.  Only 66% of epidermal cells (compared with 92% in wild type) overlying two cortical cells develop as \u001b[01;31m\u001b[Kroot\u001b[m\u001b[K hairs, and 21% of epidermal cells overlying one cortical cell (compared with 1% in wild type) develop as \u001b[01;31m\u001b[Kroot\u001b[m\u001b[K hairs.\t15618487\n",
      "\u001b[32m\u001b[K391\u001b[m\u001b[K\u001b[36m\u001b[K:\u001b[m\u001b[KAT1G12240\tSALK_100813 (homozygous)\tSignificantly shorter \u001b[01;31m\u001b[Kroot\u001b[m\u001b[Ks.  50% reduction in vacuolar invertase (Vac-Inv) activity compared to parental line.\t16481625\n",
      "\u001b[32m\u001b[K394\u001b[m\u001b[K\u001b[36m\u001b[K:\u001b[m\u001b[KAT1G12610\tddf1-LF1\tLonger \u001b[01;31m\u001b[Kroot\u001b[m\u001b[Ks when plants are grown under salt stress (50-100 nM NaCl).\t18643985\n",
      "\u001b[32m\u001b[K410\u001b[m\u001b[K\u001b[36m\u001b[K:\u001b[m\u001b[KAT1G13290\tdot5-1\tdot5-1 mutants have a misaligned venation defect in their leaves and cotyledons. Their phenotypes may vary somewhat, but dot5-1 mutants often have shorter \u001b[01;31m\u001b[Kroot\u001b[m\u001b[Ks and delayed leaf initiation compared to wild-type seedlings. They also have an abnormal petiole length and phyllotaxy. Apical dominance is reduced in dot5-1 mutants, and they appear to be hypersensitive to an application of the polar auxin transport inhibitor NPA.\t18643975\n",
      "\u001b[32m\u001b[K430\u001b[m\u001b[K\u001b[36m\u001b[K:\u001b[m\u001b[KAT1G14290\tsbh1-1 sbh2-1\tDwarf plants with reduced vigor, dies before expansion of the true leaves, necrotic lesions on cotyledons. When grew on agar plates, the double mutants displayed extended viability and developed into compact and epinastic rosette with small curled leaves and short petioles, however no bolting. Short \u001b[01;31m\u001b[Kroot\u001b[m\u001b[Ks on agar plate.\t18612100\n",
      "\u001b[32m\u001b[K435\u001b[m\u001b[K\u001b[36m\u001b[K:\u001b[m\u001b[KAT1G14660\tSALK_070497\tLi+ hypersensitive. Under low Li+ concentrations, germination of mutant seeds and elongation of \u001b[01;31m\u001b[Kroot\u001b[m\u001b[Ks were significantly reduced.\t17270011\n",
      "\u001b[32m\u001b[K436\u001b[m\u001b[K\u001b[36m\u001b[K:\u001b[m\u001b[KAT1G14660\tSALK_086336\tLi+ hypersensitive. Under low Li+ concentrations, germination of mutant seeds and elongation of \u001b[01;31m\u001b[Kroot\u001b[m\u001b[Ks were significantly reduced.\t17270011\n",
      "\u001b[32m\u001b[K467\u001b[m\u001b[K\u001b[36m\u001b[K:\u001b[m\u001b[KAT1G15550\tga3ox1-3\t\u001b[01;31m\u001b[KRoot\u001b[m\u001b[Ks shorter than that of wildtype.\t16460513\n",
      "\u001b[32m\u001b[K477\u001b[m\u001b[K\u001b[36m\u001b[K:\u001b[m\u001b[KAT1G15550\tga3ox1-3 ga3ox2-1\tSevere defect in \u001b[01;31m\u001b[Kroot\u001b[m\u001b[K length.\t16460513\n",
      "\u001b[32m\u001b[K480\u001b[m\u001b[K\u001b[36m\u001b[K:\u001b[m\u001b[KAT1G15690\tavp1-1\tShoot defects include: smaller leaves, decreased cell number in leaves, mesophyll and vascular patterning disorganized, cup-shaped cotyledons.\u001b[01;31m\u001b[KRoot\u001b[m\u001b[K defects: small cells at apex, columella cell layers reduced to 2, deformed \u001b[01;31m\u001b[Kroot\u001b[m\u001b[K cap.\t16210544\n",
      "\u001b[32m\u001b[K496\u001b[m\u001b[K\u001b[36m\u001b[K:\u001b[m\u001b[KAT1G16150\twakl4-1\tSeedlings consistently show retarded \u001b[01;31m\u001b[Kroot\u001b[m\u001b[K growth when grown in full- or one-half-strength MS nutrients and are hypersensitive, as assayed by a \u001b[01;31m\u001b[Kroot\u001b[m\u001b[K elongation assay, to Na+, K+, Zn2+ and Cu2+.\t16286448\n",
      "\u001b[32m\u001b[K520\u001b[m\u001b[K\u001b[36m\u001b[K:\u001b[m\u001b[KAT1G17110\tubp15-1\tubp15-1 mutants exhibit several anatomical defects related to leaf, \u001b[01;31m\u001b[Kroot\u001b[m\u001b[K, flower, stem, and silique development. Notably, rosette leaves are narrow and serrated. An examination of ubp15-1 leaf cross-sections reveals a reduction in the number of adaxial epidermal and palisade cells spanning the width of the leaf. ubp15-1 mutant leaves also have fewer spongy cell layers than wild type leaves. The aberrant phenotype of this mutant is exacerbated when it is crossed with ubp16-1.\t18485060\n",
      "\u001b[32m\u001b[K521\u001b[m\u001b[K\u001b[36m\u001b[K:\u001b[m\u001b[KAT1G17170\tgst\tAs for the \u001b[01;31m\u001b[Kroot\u001b[m\u001b[K growth assay, the \u001b[01;31m\u001b[Kroot\u001b[m\u001b[K elongation of both the mutant and the wild-type was inhibited at lower concentrations of TNT than 2,6-DNT. In addition, there was no statistically significant difference of the \u001b[01;31m\u001b[Kroot\u001b[m\u001b[K elongation between the gst mutant and the wild-type exposed to different concentrations of 2,6-DNT and TNT from t-test.\n",
      "\u001b[32m\u001b[K529\u001b[m\u001b[K\u001b[36m\u001b[K:\u001b[m\u001b[KAT1G17440\teer4\t\u001b[01;31m\u001b[KRoot\u001b[m\u001b[Ks are extremely curled.   Dark-grown seedlings are hypersensitive to ethylene. Extreme hypocotyl shortening is observed when grown on 100ul /L ethylene.\n",
      "\u001b[32m\u001b[K535\u001b[m\u001b[K\u001b[36m\u001b[K:\u001b[m\u001b[KAT1G17580\tSALK_019031C\tThere are no obvious defects in the aerial tissues, \u001b[01;31m\u001b[Kroot\u001b[m\u001b[Ks, or \u001b[01;31m\u001b[Kroot\u001b[m\u001b[K hairs of xi-1 mutant plants grown under normal conditions. There are also no obvious defects in organelle trafficking, except for a slight effect on peroxisome movement. Double mutant analysis reveals a greater role for XI-1 in organelle movement and plant development (see xik-2/xi-1).\t18178669\n",
      "\u001b[32m\u001b[K536\u001b[m\u001b[K\u001b[36m\u001b[K:\u001b[m\u001b[KAT1G17580\txi-k / xi-1\tThe xi-k / xi-1 double mutant plants are shorter and have smaller rosettes than wild type plants. Their reduced leaf size results from decreased cell size and decreased cell number. These double mutants produce fewer seeds per silique than wild type plants. In the leaf epidermis, Golgi stacks, peroxisomes, and mitochondria move more slowly in these mutant cells than in wild-type cells. \u001b[01;31m\u001b[KRoot\u001b[m\u001b[K hair length is reduced to ~35% of the wild type \u001b[01;31m\u001b[Kroot\u001b[m\u001b[K hair length in these double mutants, but their \u001b[01;31m\u001b[Kroot\u001b[m\u001b[K hair density is very similar to the wild type density.\t19060218\n"
     ]
    },
    {
     "name": "stdout",
     "output_type": "stream",
     "text": [
      "\u001b[32m\u001b[K545\u001b[m\u001b[K\u001b[36m\u001b[K:\u001b[m\u001b[KAT1G18350\tbud1\tbud1 plants develop significantly fewer  lateral \u001b[01;31m\u001b[Kroot\u001b[m\u001b[Ks, simpler venation patterns, and a quicker and greater curvature in the gravitropism assay. In addition, the bud1  plants have shorter hypocotyls at high temperature (29C) under light, which is a characteristic feature of defective auxin  action. Determination of tritium-labeled indole-3-acetic acid transport showed that the increased expression of MKK7 in bud1  or the repressed expression in MKK7 antisense transgenic plants causes deficiency or enhancement in auxin transport,  indicating that MKK7 negatively regulates polar auxin transport.\t16377756\n",
      "\u001b[32m\u001b[K553\u001b[m\u001b[K\u001b[36m\u001b[K:\u001b[m\u001b[KAT1G18800\tnrp1-1 nrp2-1\tDouble mutant plants showed a short-\u001b[01;31m\u001b[Kroot\u001b[m\u001b[K phenotype: \u001b[01;31m\u001b[Kroot\u001b[m\u001b[Ks grew like the wild-type \u001b[01;31m\u001b[Kroot\u001b[m\u001b[Ks until 6 d after germination (DAG). However, after 7 DAG, the elongation of the double mutant \u001b[01;31m\u001b[Kroot\u001b[m\u001b[Ks was dramatically reduced compared with the wild-type \u001b[01;31m\u001b[Kroot\u001b[m\u001b[Ks. The aerial organs (leaves, rosettes, inflorescences, flowers, fruits, and embryos) developed normally in the double mutant plants.\n",
      "\u001b[32m\u001b[K559\u001b[m\u001b[K\u001b[36m\u001b[K:\u001b[m\u001b[KAT1G19220\tCS24617\tThe primary \u001b[01;31m\u001b[Kroot\u001b[m\u001b[Ks of the mutant produce as many lateral \u001b[01;31m\u001b[Kroot\u001b[m\u001b[Ks as the wild type.\t15659631\n",
      "\u001b[32m\u001b[K563\u001b[m\u001b[K\u001b[36m\u001b[K:\u001b[m\u001b[KAT1G19220\tCS24617\tno obvious auxin-related growth phenotype, but \u001b[01;31m\u001b[Kroot\u001b[m\u001b[Ks show mild auxin resistance\t15659631\n",
      "\u001b[32m\u001b[K564\u001b[m\u001b[K\u001b[36m\u001b[K:\u001b[m\u001b[KAT1G19220\tCS24618\tno obvious auxin-related growth phenotype, but \u001b[01;31m\u001b[Kroot\u001b[m\u001b[Ks show mild auxin resistance\t15659631\n",
      "Binary file Locus_Germplasm_Phenotype_20130122.txt matches\n"
     ]
    }
   ],
   "source": [
    "grep \"root\" -Ein Locus_Germplasm_Phenotype_20130122.txt"
   ]
  },
  {
   "cell_type": "markdown",
   "metadata": {},
   "source": [
    "I don't know how to limit the \"grep\" search to the phenotype column exclusively.\n",
    "\n",
    "But, using \"grep \"root\" -in Locus_Germplasm_Phenotype_20130122.txt\" you obtain the same anwser as no other column contains the word root. \n",
    "\n",
    "grep searches for the expression inside \"\" in a file. The arguments -i means that the search is case insensitive to record all the times root is in the beginning of a phrase i.e. and the -n specify to show the number of the line in the file."
   ]
  },
  {
   "cell_type": "markdown",
   "metadata": {},
   "source": [
    "## Problem 7\n",
    "\n",
    "* Create a command that writes the AGI Locus Code for every line that has a phenotype including the word \"root\" to a file called: <br/>\"Root-associated-Loci.txt\""
   ]
  },
  {
   "cell_type": "code",
   "execution_count": 6,
   "metadata": {},
   "outputs": [
    {
     "name": "stdout",
     "output_type": "stream",
     "text": [
      "55 Root-associated-Loci.txt\n",
      "56 check.txt\n"
     ]
    }
   ],
   "source": [
    "grep \"root\" -i Locus_Germplasm_Phenotype_20130122.txt | grep -Eino \"AT[0-9]G[0-9]{5}\" > Root-associated-Loci.txt\n",
    "wc -l Root-associated-Loci.txt\n",
    "grep \"root\" -i Locus_Germplasm_Phenotype_20130122.txt > check.txt\n",
    "wc -l check.txt"
   ]
  },
  {
   "cell_type": "markdown",
   "metadata": {},
   "source": [
    "I used the following pipe:\n",
    "\n",
    "\n",
    "The first column is the \"Arabiodopsis Genome Initiative\" (AGI) Locus Code.  Locus Codes have a predictable structure\n",
    "\n",
    "* The first character is \"A\" or \"a\" -> A\n",
    "* The second character is \"T\" or \"t\" -> T\n",
    "* The third character is the chromosome number (between 1 and 5) -> [0-9]\n",
    "* The fourth character is \"G\" or \"g\" -> G\n",
    "* The remaining characters are a set of 5 digits (between 0 and 9) -> [0-9]{5}"
   ]
  },
  {
   "cell_type": "markdown",
   "metadata": {},
   "source": [
    "## Problem 8\n",
    "\n",
    "* Create a command that writes the PubMed ID for every line that has a phenotype including the word \"root\" to a file called: <br/>\"Root-associated-Publications.txt\""
   ]
  },
  {
   "cell_type": "code",
   "execution_count": 7,
   "metadata": {
    "scrolled": true
   },
   "outputs": [
    {
     "name": "stdout",
     "output_type": "stream",
     "text": [
      "54 Root-associated-Publications.txt\n",
      "56 check2.txt\n"
     ]
    }
   ],
   "source": [
    "grep \"root\" -i Locus_Germplasm_Phenotype_20130122.txt | grep -E \"\\s[0-9]+\" > Root-associated-Publications.txt\n",
    "grep \"root\" -i Locus_Germplasm_Phenotype_20130122.txt > check2.txt\n",
    "wc -l Root-associated-Publications.txt\n",
    "wc -l check2.txt\n"
   ]
  },
  {
   "cell_type": "markdown",
   "metadata": {},
   "source": [
    "The final column in the dataset is the PubMed ID for the published paper describing this phenotype.  PubMed IDs are all digits (0-9) but the length of the ID is unpredictable."
   ]
  },
  {
   "cell_type": "markdown",
   "metadata": {},
   "source": [
    "## Problem 9\n",
    "\n",
    "* _**Control experiment**_:  You would hypothesize that genes associated with roots **should be found on all chromosomes.**  Find a way (one or more commands) to test this hypothesis.  In this dataset, is the hypothesis true? "
   ]
  },
  {
   "cell_type": "code",
   "execution_count": 8,
   "metadata": {},
   "outputs": [
    {
     "name": "stdout",
     "output_type": "stream",
     "text": [
      "55 Chr1.txt\n",
      "0 Chr2.txt\n",
      "0 Chr3.txt\n",
      "0 Chr4.txt\n",
      "0 Chr5.txt\n"
     ]
    }
   ],
   "source": [
    "grep \"root\" -i Locus_Germplasm_Phenotype_20130122.txt | grep -Eino \"AT[0-9]G[0-9]{5}\" > Root-associated-Loci.txt\n",
    "grep \"AT1\\w+\" -Eino Root-associated-Loci.txt > Chr1.txt\n",
    "grep \"AT2\\w+\" -Eino Root-associated-Loci.txt > Chr2.txt\n",
    "grep \"AT3\\w+\" -Eino Root-associated-Loci.txt > Chr3.txt\n",
    "grep \"AT4\\w+\" -Eino Root-associated-Loci.txt > Chr4.txt\n",
    "grep \"AT5\\w+\" -Eino Root-associated-Loci.txt > Chr5.txt\n",
    "wc -l Chr1.txt\n",
    "wc -l Chr2.txt\n",
    "wc -l Chr3.txt\n",
    "wc -l Chr4.txt\n",
    "wc -l Chr5.txt"
   ]
  },
  {
   "cell_type": "markdown",
   "metadata": {},
   "source": [
    "The hypothesis that genes that are associated with root phenotypes are found in all chromosomes is false, using this code. \n",
    "\n",
    "I tested it using the file that we already used in exercise 7 with all the root associated Loci. Then I grep in this file for the specific chromosome using the ATn, where the n correspond to one of the five chromosomes of A. thaliana, and output it in a file name \"Chrn.txt\", where the n correspond to the chromosome number. Finally, I printed the lines that are in each file to see the distribution for each chromosome using the .txt corresponding to each chromosome. All the genes are stored in the chromosome 1."
   ]
  },
  {
   "cell_type": "markdown",
   "metadata": {},
   "source": [
    "## Problem 10\n",
    "\n",
    "* This dataset is from the most popular Arabidopsis database on earth!  **I did not change it!**  What does your answer to Problem 9 tell you?  Can you explain it?  What do you learn from this control that you should remember for the rest of your life?!"
   ]
  },
  {
   "cell_type": "code",
   "execution_count": null,
   "metadata": {},
   "outputs": [],
   "source": []
  },
  {
   "cell_type": "markdown",
   "metadata": {},
   "source": [
    "I know it is incorrect, because searching with Cntr + F in the original .txt shows 1501 matches and I only see 55 genes. I don't know what's wrong, but it shows the importance of good controls."
   ]
  },
  {
   "cell_type": "markdown",
   "metadata": {},
   "source": [
    "## Problem 11\n",
    "\n",
    "* push your answers to GitHub and give me your GitHub username before you leave the class. I will clone your repositories and grade your answers.\n"
   ]
  }
 ],
 "metadata": {
  "kernelspec": {
   "display_name": "Bash",
   "language": "bash",
   "name": "bash"
  },
  "language_info": {
   "codemirror_mode": "shell",
   "file_extension": ".sh",
   "mimetype": "text/x-sh",
   "name": "bash"
  }
 },
 "nbformat": 4,
 "nbformat_minor": 2
}
